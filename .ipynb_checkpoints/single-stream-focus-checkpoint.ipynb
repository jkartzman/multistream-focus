{
 "cells": [
  {
   "cell_type": "code",
   "execution_count": 1,
   "id": "5e1d638b-0465-4ddc-80ee-cf0328e4f164",
   "metadata": {},
   "outputs": [],
   "source": [
    "# Goal: re-write FOCuS algorithm that works for both mu>0 and mu<0, where the sign isn't known\n",
    "# Experiment with changepoint estimate location over time and see if it's deviation is bounded\n",
    "# Compare statistic with naively computed GLR in both mu>0 and mu<0"
   ]
  },
  {
   "cell_type": "code",
   "execution_count": 21,
   "id": "0ec6170f-a6ff-4f5a-9b71-1f67ac494165",
   "metadata": {},
   "outputs": [],
   "source": [
    "import numpy as np\n",
    "from scipy.stats import norm\n",
    "\n",
    "nu = int(1e3)\n",
    "T = int(1e6)\n",
    "data = np.zeros(T)\n",
    "mu0 = 0\n",
    "var = 1\n",
    "mu1 = 1\n",
    "data[:nu] = norm.rvs(size=nu)\n",
    "data[nu:] = norm.rvs(loc=mu1,size=T-nu)\n",
    "threshold = 10"
   ]
  },
  {
   "cell_type": "code",
   "execution_count": 22,
   "id": "773d760f-baf9-4c50-a7dc-392aa6fac746",
   "metadata": {},
   "outputs": [
    {
     "name": "stdout",
     "output_type": "stream",
     "text": [
      "stopping time: 1010\n",
      "11.397850662922883\n"
     ]
    }
   ],
   "source": [
    "import sys\n",
    "\n",
    "# Implementation of FOCuS for mu>0\n",
    "quadratics = [(0,0,0)]\n",
    "# tau, s, l\n",
    "S = 0\n",
    "\n",
    "for t in range(T):\n",
    "    S = S + data[t]\n",
    "    # Recall time step are different from index in array\n",
    "    # Time steps are 1-indexed so adding t+1\n",
    "    k = len(quadratics)\n",
    "    quadratic_add = [t+1,S,np.inf]\n",
    "    i = k\n",
    "    while (2*(quadratic_add[1]-quadratics[i-1][1])-(quadratic_add[0]-quadratics[i-1][0])*quadratics[i-1][2])<=0 and i>=1:\n",
    "        i = i-1\n",
    "        # I might change this to i>=2 because I'm not sure how it handles it when i=0\n",
    "        # Although this would be saying the zero line is more optimal than any quadratic so I'm pretty sure this is impossible\n",
    "    quadratic_add[2] = max(0,2*(quadratic_add[0]-quadratics[i-1][0])/(quadratic_add[2]-quadratics[i-1][2]))\n",
    "    quadratics = quadratics[:i].copy()\n",
    "    quadratics.append(tuple(quadratic_add))\n",
    "\n",
    "    glr = max([(S-quadratic[1])**2/(2*(t+1-quadratic[0])) for quadratic in quadratics[:-1]]+[0])\n",
    "    # Here 0 corresponds to the last quadratic \n",
    "    if glr>=threshold:\n",
    "        print(f'stopping time: {t+1}')\n",
    "        print(glr)\n",
    "        break"
   ]
  },
  {
   "cell_type": "code",
   "execution_count": 24,
   "id": "a75e6d6d-63e5-405a-bcc0-02d5ee2e25d8",
   "metadata": {},
   "outputs": [],
   "source": [
    "# All of the above code works for positive mean change but not for negative for some reason\n",
    "# Romano says the algorithm has to updated separately for both mu>0 and mu<0 so we'll work next on doing it for mu<0"
   ]
  },
  {
   "cell_type": "code",
   "execution_count": 29,
   "id": "b369582f-04d4-4fbb-8df8-80e8e0abc96e",
   "metadata": {},
   "outputs": [
    {
     "name": "stdout",
     "output_type": "stream",
     "text": [
      "stopping time: 1013\n",
      "10.022603359397088\n"
     ]
    }
   ],
   "source": [
    "import sys\n",
    "\n",
    "# Implementation of FOCuS for mu>0\n",
    "quadratics = [(0,0,0)]\n",
    "# tau, s, l\n",
    "S = 0\n",
    "\n",
    "for t in range(T):\n",
    "    S = S + data[t]\n",
    "    # Recall time step are different from index in array\n",
    "    # Time steps are 1-indexed so adding t+1\n",
    "    k = len(quadratics)\n",
    "    quadratic_add = [t+1,S,-np.inf]\n",
    "    i = k\n",
    "    while (2*(quadratic_add[1]-quadratics[i-1][1])-(quadratic_add[0]-quadratics[i-1][0])*quadratics[i-1][2])>=0 and i>=1:\n",
    "        i = i-1\n",
    "        # I might change this to i>=2 because I'm not sure how it handles it when i=0\n",
    "        # Although this would be saying the zero line is more optimal than any quadratic so I'm pretty sure this is impossible\n",
    "    quadratic_add[2] = min(0,2*(quadratic_add[0]-quadratics[i-1][0])/(quadratic_add[2]-quadratics[i-1][2]))\n",
    "    quadratics = quadratics[:i].copy()\n",
    "    quadratics.append(tuple(quadratic_add))\n",
    "\n",
    "    glr = max([(S-quadratic[1])**2/(2*(t+1-quadratic[0])) for quadratic in quadratics[:-1]]+[0])\n",
    "    # Here 0 corresponds to the last quadratic \n",
    "    if glr>=threshold:\n",
    "        print(f'stopping time: {t+1}')\n",
    "        print(glr)\n",
    "        break"
   ]
  },
  {
   "cell_type": "code",
   "execution_count": 31,
   "id": "b33f6bd8-eb66-402c-a5de-da50b37ebb2c",
   "metadata": {},
   "outputs": [],
   "source": [
    "# Ok the above works for mu<0 detection\n",
    "# Next step is to combine the two"
   ]
  },
  {
   "cell_type": "code",
   "execution_count": 1,
   "id": "f41d83be-55e8-48d1-93e8-212ef7b72811",
   "metadata": {},
   "outputs": [],
   "source": [
    "import numpy as np\n",
    "from scipy.stats import norm\n",
    "\n",
    "nu = int(1e3)\n",
    "T = int(1e7)\n",
    "data = np.zeros(T)\n",
    "mu0 = 0\n",
    "var = 1\n",
    "mu1 = 1\n",
    "data[:nu] = norm.rvs(size=nu)\n",
    "data[nu:] = norm.rvs(loc=mu1,size=T-nu)\n",
    "threshold = 10"
   ]
  },
  {
   "cell_type": "code",
   "execution_count": 2,
   "id": "b4bff6da-3930-453f-a68b-acc7db059dd5",
   "metadata": {},
   "outputs": [
    {
     "name": "stdout",
     "output_type": "stream",
     "text": [
      "stopping time: 1022\n",
      "10.548252210913546\n"
     ]
    }
   ],
   "source": [
    "import sys\n",
    "\n",
    "# Implementation of FOCuS for any mu\n",
    "quadratics_positive = [(0,0,0)]\n",
    "quadratics_negative = [(0,0,0)]\n",
    "# tau, s, l\n",
    "S = 0\n",
    "changepoint_history = []\n",
    "glr_history = []\n",
    "\n",
    "for t in range(T):\n",
    "    S = S + data[t]\n",
    "    # Recall time step are different from index in array\n",
    "    # Time steps are 1-indexed so adding t+1\n",
    "    #Positive update first\n",
    "    k = len(quadratics_positive)\n",
    "    quadratic_add = [t+1,S,np.inf]\n",
    "    i = k\n",
    "    while (2*(quadratic_add[1]-quadratics_positive[i-1][1])-(quadratic_add[0]-quadratics_positive[i-1][0])*quadratics_positive[i-1][2])<=0 and i>=1:\n",
    "        i = i-1\n",
    "    quadratic_add[2] = max(0,2*(quadratic_add[0]-quadratics_positive[i-1][0])/(quadratic_add[2]-quadratics_positive[i-1][2]))\n",
    "    quadratics_positive = quadratics_positive[:i].copy()\n",
    "    quadratics_positive.append(tuple(quadratic_add))\n",
    "\n",
    "    # Now negative update\n",
    "    k = len(quadratics_negative)\n",
    "    quadratic_add = [t+1,S,-np.inf]\n",
    "    i = k\n",
    "    while (2*(quadratic_add[1]-quadratics_negative[i-1][1])-(quadratic_add[0]-quadratics_negative[i-1][0])*quadratics_negative[i-1][2])>=0 and i>=1:\n",
    "        i = i-1\n",
    "    quadratic_add[2] = min(0,2*(quadratic_add[0]-quadratics_negative[i-1][0])/(quadratic_add[2]-quadratics_negative[i-1][2]))\n",
    "    quadratics_negative = quadratics_negative[:i].copy()\n",
    "    quadratics_negative.append(tuple(quadratic_add))\n",
    "    # Combine two and check\n",
    "    # glr = max([(S-quadratic[1])**2/(2*(t+1-quadratic[0])) for quadratic in quadratics_positive[:-1]]+[(S-quadratic[1])**2/(2*(t+1-quadratic[0])) for quadratic in quadratics_negative[:-1]]+[0])\n",
    "    # Here 0 corresponds to the last quadratic \n",
    "    best_changepoint = 0\n",
    "    best_glr = 0\n",
    "    for quadratic in quadratics_positive + quadratics_negative:\n",
    "        if t+1-quadratic[0]==0: \n",
    "            continue\n",
    "        elif (S-quadratic[1])**2/(2*(t+1-quadratic[0]))>best_glr:\n",
    "            best_glr = (S-quadratic[1])**2/(2*(t+1-quadratic[0]))\n",
    "            best_changepoint = quadratic[0]\n",
    "    changepoint_history.append(best_changepoint)   \n",
    "    glr_history.append(best_glr)\n",
    "    if best_glr>=threshold:\n",
    "        print(f'stopping time: {t+1}')\n",
    "        print(best_glr)\n",
    "        break"
   ]
  },
  {
   "cell_type": "code",
   "execution_count": 3,
   "id": "e114659b-52db-4f84-af2d-9e6a91a89a15",
   "metadata": {},
   "outputs": [
    {
     "name": "stdout",
     "output_type": "stream",
     "text": [
      "stopping time: 1022\n",
      "10.548252210913539\n"
     ]
    }
   ],
   "source": [
    "# Naive O(n^2) implementation of GLR \n",
    "changepoint_history_naive = []\n",
    "glr_history_naive = []\n",
    "for t in range(T):\n",
    "    n = t+1\n",
    "    glr_values = []\n",
    "    for s in range(n):\n",
    "        glr_s = 0.5*np.sum(data[s:n])**2/(n-s)\n",
    "        glr_values.append(glr_s)\n",
    "    glr = max(glr_values)\n",
    "    glr_history_naive.append(glr)\n",
    "    changepoint_history_naive.append(int(np.argmax(glr_values)))\n",
    "    if glr>=threshold:\n",
    "        print(f'stopping time: {t+1}')\n",
    "        print(glr)\n",
    "        break"
   ]
  },
  {
   "cell_type": "code",
   "execution_count": 4,
   "id": "0321d548-c8ba-49b8-a94a-231188857e4b",
   "metadata": {},
   "outputs": [
    {
     "data": {
      "text/plain": [
       "True"
      ]
     },
     "execution_count": 4,
     "metadata": {},
     "output_type": "execute_result"
    }
   ],
   "source": [
    "all(list(np.array(changepoint_history_naive) == np.array(changepoint_history)))"
   ]
  },
  {
   "cell_type": "code",
   "execution_count": 10,
   "id": "176e17e6-2f05-4afd-a28c-03fcec7dbbef",
   "metadata": {},
   "outputs": [
    {
     "data": {
      "text/plain": [
       "np.float64(0.6429537193047168)"
      ]
     },
     "execution_count": 10,
     "metadata": {},
     "output_type": "execute_result"
    }
   ],
   "source": [
    "glr_history[28]"
   ]
  },
  {
   "cell_type": "code",
   "execution_count": 11,
   "id": "6259a44a-9c08-4b85-9c18-0778d516b34d",
   "metadata": {},
   "outputs": [
    {
     "data": {
      "text/plain": [
       "np.float64(0.6429537193047165)"
      ]
     },
     "execution_count": 11,
     "metadata": {},
     "output_type": "execute_result"
    }
   ],
   "source": [
    "glr_history_naive[28]"
   ]
  },
  {
   "cell_type": "code",
   "execution_count": 9,
   "id": "f19e641d-8cb3-4d53-bc74-7770d32da1f1",
   "metadata": {},
   "outputs": [
    {
     "data": {
      "text/plain": [
       "(array([   0,    1,    2,    3,    4,    5,    6,    7,    8,    9,   10,\n",
       "          11,   13,   16,   18,   19,   20,   21,   22,   23,   24,   25,\n",
       "          32,   34,   35,   36,   42,   44,   51,   54,   55,   56,   57,\n",
       "          59,   60,   61,   62,   66,   67,   79,   91,   92,   98,   99,\n",
       "         100,  101,  102,  103,  104,  105,  106,  107,  109,  112,  115,\n",
       "         118,  122,  126,  128,  129,  130,  131,  132,  133,  136,  137,\n",
       "         138,  140,  146,  147,  148,  151,  155,  156,  158,  159,  161,\n",
       "         162,  163,  164,  167,  172,  173,  176,  177,  178,  179,  180,\n",
       "         181,  185,  187,  188,  189,  190,  191,  192,  193,  194,  196,\n",
       "         198,  199,  200,  201,  203,  205,  208,  210,  211,  212,  222,\n",
       "         225,  228,  230,  231,  233,  237,  238,  239,  240,  242,  243,\n",
       "         244,  245,  246,  247,  248,  249,  250,  251,  252,  255,  256,\n",
       "         257,  258,  259,  260,  262,  269,  280,  281,  282,  286,  295,\n",
       "         301,  305,  310,  312,  320,  321,  324,  325,  337,  343,  344,\n",
       "         407,  412,  414,  416,  417,  419,  421,  422,  423,  430,  451,\n",
       "         452,  465,  466,  467,  469,  494,  512,  514,  516,  517,  519,\n",
       "         520,  528,  558,  585,  588,  589,  590,  592,  593,  594,  597,\n",
       "         599,  601,  602,  603,  604,  605,  606,  609,  610,  611,  612,\n",
       "         615,  618,  624,  625,  626,  630,  631,  632,  634,  635,  637,\n",
       "         638,  639,  640,  646,  652,  654,  655,  656,  657,  658,  660,\n",
       "         661,  662,  663,  668,  679,  680,  682,  683,  684,  685,  687,\n",
       "         694,  695,  697,  698,  699,  700,  701,  702,  704,  706,  707,\n",
       "         708,  709,  710,  711,  721,  722,  723,  724,  725,  726,  728,\n",
       "         732,  733,  739,  740,  741,  745,  747,  748,  749,  750,  752,\n",
       "         755,  756,  766,  767,  769,  771,  772,  777,  779,  780,  782,\n",
       "         784,  805,  806,  807,  809,  810,  811,  813,  814,  815,  816,\n",
       "         818,  820,  822,  823,  824,  827,  828,  829,  831,  833,  834,\n",
       "         836,  837,  840,  841,  842,  843,  844,  848,  850,  851,  853,\n",
       "         854,  855,  856,  857,  858,  860,  862,  863,  865,  869,  870,\n",
       "         872,  874,  875,  876,  877,  878,  879,  881,  886,  887,  888,\n",
       "         890,  891,  892,  896,  897,  904,  909,  910,  914,  918,  919,\n",
       "         921,  922,  935,  936,  937,  938,  940,  941,  943,  944,  945,\n",
       "         946,  947,  948,  949,  950,  951,  952,  953,  954,  955,  956,\n",
       "         959,  961,  963,  971,  972,  973,  975,  977,  980,  981,  982,\n",
       "         983,  984,  985, 1004]),)"
      ]
     },
     "execution_count": 9,
     "metadata": {},
     "output_type": "execute_result"
    }
   ],
   "source": [
    "np.where(np.array(glr_history)==np.array(glr_history_naive))"
   ]
  },
  {
   "cell_type": "code",
   "execution_count": 16,
   "id": "450d987c-d949-4fb8-b040-22ce97bba710",
   "metadata": {},
   "outputs": [
    {
     "data": {
      "text/plain": [
       "[<matplotlib.lines.Line2D at 0x7fac78a6f6b0>]"
      ]
     },
     "execution_count": 16,
     "metadata": {},
     "output_type": "execute_result"
    },
    {
     "data": {
      "image/png": "[encoded data removed]",
      "text/plain": [
       "<Figure size 640x480 with 1 Axes>"
      ]
     },
     "metadata": {},
     "output_type": "display_data"
    }
   ],
   "source": [
    "import matplotlib.pyplot as plt\n",
    "\n",
    "plt.plot(changepoint_history_naive)"
   ]
  },
  {
   "cell_type": "code",
   "execution_count": 31,
   "id": "e0b50c8e-e54c-4025-adaf-565c3f4188b3",
   "metadata": {},
   "outputs": [
    {
     "data": {
      "text/plain": [
       "[<matplotlib.lines.Line2D at 0x7fac736852b0>]"
      ]
     },
     "execution_count": 31,
     "metadata": {},
     "output_type": "execute_result"
    },
    {
     "data": {
      "image/png": "[encoded data removed]",
      "text/plain": [
       "<Figure size 640x480 with 1 Axes>"
      ]
     },
     "metadata": {},
     "output_type": "display_data"
    }
   ],
   "source": [
    "import matplotlib.pyplot as plt\n",
    "\n",
    "plt.plot(np.array(changepoint_history)-1000)"
   ]
  },
  {
   "cell_type": "code",
   "execution_count": null,
   "id": "0937365c-8742-4674-9a13-408338c83bb2",
   "metadata": {},
   "outputs": [],
   "source": [
    "# All of the above seems to confirm my analysis is correct\n",
    "# One thing I want to do when I can let this run for an hour without checking is trying the following paramemters:\n",
    "# nu=0, mu=-0.001, threshold=200, T=1e7"
   ]
  }
 ],
 "metadata": {
  "kernelspec": {
   "display_name": "Python 3 (ipykernel)",
   "language": "python",
   "name": "python3"
  },
  "language_info": {
   "codemirror_mode": {
    "name": "ipython",
    "version": 3
   },
   "file_extension": ".py",
   "mimetype": "text/x-python",
   "name": "python",
   "nbconvert_exporter": "python",
   "pygments_lexer": "ipython3",
   "version": "3.12.8"
  }
 },
 "nbformat": 4,
 "nbformat_minor": 5
}
