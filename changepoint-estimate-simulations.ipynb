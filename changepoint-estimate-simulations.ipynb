{
 "cells": [
  {
   "cell_type": "markdown",
   "id": "74663b5e-b02d-442b-a74c-f50ee78cb9f6",
   "metadata": {},
   "source": [
    "Simulations I want to add: \n",
    "\n",
    "1. simulations on convergence of change-point estimate, plot absolute deviation over time, \n",
    "when you have the observer go to incorrect streams for the change-point estimate you should see large jumps in the deviation; \n",
    "\n",
    "2. simulations on comparison between random search and $\\epsilon$-greedy search, \n",
    "you should see an improvement by a factor of $M(1-\\epsilon)$\n",
    "\n",
    "3. simulations on comparison between $\\epsilon$-FOCuS and optimal performance across varying thresholds, \n",
    "you should see it only worse by a factor of $1-\\epsilon$\n",
    "\n",
    "4. comparison of detection delay between differing thresholds on effects on change-point location.  \n",
    "this I'm not sure what to predict.  it might either perform better or worse, better because detection delay of stream 1 will be shorter \n",
    "but it will also take more time to converge to a better changepoint estimate most likely\n",
    "\n",
    "5. detection delay across different thresholds for different values of epsilon"
   ]
  },
  {
   "cell_type": "markdown",
   "id": "826364e4-9fcd-4cdb-8e8e-eb313f7be8f7",
   "metadata": {},
   "source": [
    "First what we're going to do is plot the average deviation of the change-point estimate.  Also plotting what stream contains the change-point estimate."
   ]
  },
  {
   "cell_type": "code",
   "execution_count": 46,
   "id": "70ceefe8-1188-47d7-8c84-abf6314d1b75",
   "metadata": {},
   "outputs": [
    {
     "name": "stdout",
     "output_type": "stream",
     "text": [
      "0\n",
      "1\n",
      "2\n",
      "3\n",
      "4\n",
      "5\n",
      "6\n",
      "7\n",
      "8\n",
      "9\n",
      "10\n",
      "11\n",
      "12\n",
      "13\n",
      "14\n",
      "15\n",
      "16\n",
      "17\n",
      "18\n",
      "19\n"
     ]
    }
   ],
   "source": [
    "import focus_implementation as focus\n",
    "import numpy as np\n",
    "from scipy.stats import norm\n",
    "\n",
    "T = int(3e4)\n",
    "nu = int(1e4)\n",
    "M = 10\n",
    "sims = 20\n",
    "mu0 = 0\n",
    "var = 1\n",
    "mu1 = 1\n",
    "changepoint_data = []\n",
    "stream_data = []\n",
    "# change-point estimate experiments\n",
    "for i in range(sims):\n",
    "    print(i)\n",
    "    # Assume changepoint is in stream 0\n",
    "    data = np.zeros((M,T))\n",
    "    data[0][:nu] = norm.rvs(size=nu)\n",
    "    data[0][nu:] = norm.rvs(loc=mu1,size=T-nu)\n",
    "    for i in range(1,M):\n",
    "        data[i] = norm.rvs(loc=mu0,size=T)\n",
    "    changepoint_location, best_stream = focus.changepoint_estimation(data,0.1)\n",
    "    changepoint_data.append(changepoint_location)\n",
    "    stream_data.append(best_stream)"
   ]
  },
  {
   "cell_type": "code",
   "execution_count": 67,
   "id": "13f97a01-fb0d-4f48-b853-1475fc01e3f4",
   "metadata": {},
   "outputs": [
    {
     "name": "stdout",
     "output_type": "stream",
     "text": [
      "0\n",
      "1\n",
      "2\n",
      "3\n",
      "4\n",
      "5\n",
      "6\n",
      "7\n",
      "8\n",
      "9\n",
      "10\n",
      "11\n",
      "12\n",
      "13\n",
      "14\n",
      "15\n",
      "16\n",
      "17\n",
      "18\n",
      "19\n"
     ]
    }
   ],
   "source": [
    "import focus_implementation as focus\n",
    "import numpy as np\n",
    "from scipy.stats import norm\n",
    "\n",
    "T = int(3e4-1e4+1e3)\n",
    "nu2 = int(1e3)\n",
    "M = 10\n",
    "sims = 20\n",
    "mu0 = 0\n",
    "var = 1\n",
    "mu1 = 1\n",
    "changepoint_data_2 = []\n",
    "stream_data_2 = []\n",
    "# change-point estimate experiments\n",
    "for i in range(sims):\n",
    "    print(i)\n",
    "    # Assume changepoint is in stream 0\n",
    "    data = np.zeros((M,T))\n",
    "    data[0][:nu2] = norm.rvs(size=nu2)\n",
    "    data[0][nu2:] = norm.rvs(loc=mu1,size=T-nu2)\n",
    "    for i in range(1,M):\n",
    "        data[i] = norm.rvs(loc=mu0,size=T)\n",
    "    changepoint_location, best_stream = focus.changepoint_estimation(data,0.1)\n",
    "    changepoint_data_2.append(changepoint_location)\n",
    "    stream_data_2.append(best_stream)"
   ]
  },
  {
   "cell_type": "code",
   "execution_count": 70,
   "id": "dff8ede2-82f9-46a5-8504-b3bb94b103cd",
   "metadata": {},
   "outputs": [
    {
     "name": "stdout",
     "output_type": "stream",
     "text": [
      "0\n",
      "1\n",
      "2\n",
      "3\n",
      "4\n",
      "5\n",
      "6\n",
      "7\n",
      "8\n",
      "9\n",
      "10\n",
      "11\n",
      "12\n",
      "13\n",
      "14\n",
      "15\n",
      "16\n",
      "17\n",
      "18\n",
      "19\n"
     ]
    }
   ],
   "source": [
    "import focus_implementation as focus\n",
    "import numpy as np\n",
    "from scipy.stats import norm\n",
    "\n",
    "T = int(2e4)\n",
    "nu3 = 0\n",
    "M = 10\n",
    "sims = 20\n",
    "mu0 = 0\n",
    "var = 1\n",
    "mu1 = 1\n",
    "changepoint_data_3 = []\n",
    "stream_data_3 = []\n",
    "# change-point estimate experiments\n",
    "for i in range(sims):\n",
    "    print(i)\n",
    "    # Assume changepoint is in stream 0\n",
    "    data = np.zeros((M,T))\n",
    "    data[0][:nu3] = norm.rvs(size=nu3)\n",
    "    data[0][nu3:] = norm.rvs(loc=mu1,size=T-nu3)\n",
    "    for i in range(1,M):\n",
    "        data[i] = norm.rvs(loc=mu0,size=T)\n",
    "    changepoint_location, best_stream = focus.changepoint_estimation(data,0.1)\n",
    "    changepoint_data_3.append(changepoint_location)\n",
    "    stream_data_3.append(best_stream)"
   ]
  },
  {
   "cell_type": "code",
   "execution_count": 73,
   "id": "9129ed7d-bd0d-47ac-8df6-8924a77fede4",
   "metadata": {},
   "outputs": [
    {
     "data": {
      "text/plain": [
       "[<matplotlib.lines.Line2D at 0x7fbe298f9100>]"
      ]
     },
     "execution_count": 73,
     "metadata": {},
     "output_type": "execute_result"
    },
    {
     "data": {
      "image/png": "[encoded data removed]",
      "text/plain": [
       "<Figure size 640x480 with 1 Axes>"
      ]
     },
     "metadata": {},
     "output_type": "display_data"
    }
   ],
   "source": [
    "import matplotlib.pyplot as plt\n",
    "\n",
    "nu = int(1e4)\n",
    "T = int(3e4)\n",
    "deviation_sum = np.zeros(T)\n",
    "for i in range(sims):\n",
    "    deviation_sum = deviation_sum + np.abs(changepoint_data[i]-nu)\n",
    "deviation_avg = deviation_sum/sims\n",
    "plt.plot(deviation_avg[nu:])\n",
    "\n",
    "T = int(3e4-1e4+1e3)\n",
    "deviation_sum2 = np.zeros(T)\n",
    "for i in range(sims):\n",
    "    deviation_sum2 = deviation_sum2 + np.abs(changepoint_data_2[i]-nu2)\n",
    "deviation_avg2 = deviation_sum2/sims\n",
    "plt.plot(deviation_avg2[nu2:], 'r')\n",
    "\n",
    "T = int(2e4)\n",
    "deviation_sum3 = np.zeros(T)\n",
    "for i in range(sims):\n",
    "    deviation_sum3 = deviation_sum3 + np.abs(changepoint_data_3[i]-nu3)\n",
    "deviation_avg3 = deviation_sum3/sims\n",
    "plt.plot(deviation_avg3[nu3:], 'g')"
   ]
  },
  {
   "cell_type": "code",
   "execution_count": 75,
   "id": "41af2da3-8485-4934-b74e-4c19133d3e52",
   "metadata": {},
   "outputs": [
    {
     "data": {
      "text/plain": [
       "[<matplotlib.lines.Line2D at 0x7fbe215f0320>]"
      ]
     },
     "execution_count": 75,
     "metadata": {},
     "output_type": "execute_result"
    },
    {
     "data": {
      "image/png": "[encoded data removed]",
      "text/plain": [
       "<Figure size 640x480 with 1 Axes>"
      ]
     },
     "metadata": {},
     "output_type": "display_data"
    }
   ],
   "source": [
    "import matplotlib.pyplot as plt\n",
    "\n",
    "T = int(2e4)\n",
    "incorrect_sum = np.zeros(T)\n",
    "for i in range(sims):\n",
    "    incorrect_sum = stream_data_3[i] + incorrect_sum\n",
    "plt.plot(incorrect_sum/20)"
   ]
  },
  {
   "cell_type": "code",
   "execution_count": null,
   "id": "af9182ea-ced1-41cc-a1e8-bf1723369945",
   "metadata": {},
   "outputs": [],
   "source": []
  }
 ],
 "metadata": {
  "kernelspec": {
   "display_name": "Python 3 (ipykernel)",
   "language": "python",
   "name": "python3"
  },
  "language_info": {
   "codemirror_mode": {
    "name": "ipython",
    "version": 3
   },
   "file_extension": ".py",
   "mimetype": "text/x-python",
   "name": "python",
   "nbconvert_exporter": "python",
   "pygments_lexer": "ipython3",
   "version": "3.12.8"
  }
 },
 "nbformat": 4,
 "nbformat_minor": 5
}
