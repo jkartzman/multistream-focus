{
 "cells": [
  {
   "cell_type": "code",
   "execution_count": 1,
   "id": "2ff833b9-c6eb-41ab-b71d-237032f5ec2d",
   "metadata": {},
   "outputs": [],
   "source": [
    "# Goal: implement multi-stream FOCuS algorithm that works for both mu>0 and mu<0, where the sign isn't known.  \n",
    "# Do this with epsilon-greedy approach that maximizes absolute value of sample mean\n",
    "# Experiment with changepoint estimate location over time and see if it's deviation is bounded\n",
    "# Experiment with whether stream 1 is the stream used to estimate changepoint location always after a certain constant"
   ]
  },
  {
   "cell_type": "code",
   "execution_count": 98,
   "id": "1b6bf251-3b24-4654-a5df-85bbc1c44693",
   "metadata": {},
   "outputs": [],
   "source": [
    "import numpy as np\n",
    "from scipy.stats import norm\n",
    "import random\n",
    "\n",
    "nu = int(1e4)\n",
    "T = int(1e6)\n",
    "M = 10\n",
    "# Assume changepoint is in stream 1\n",
    "data = np.zeros((M,T))\n",
    "mu0 = 0\n",
    "var = 1\n",
    "mu1 = 0.5\n",
    "data[0][:nu] = norm.rvs(size=nu)\n",
    "data[0][nu:] = norm.rvs(loc=mu1,size=T-nu)\n",
    "for i in range(1,M):\n",
    "    data[i] = norm.rvs(loc=mu0,size=T)"
   ]
  },
  {
   "cell_type": "code",
   "execution_count": 99,
   "id": "9e4b8f37-7b20-431a-aa9b-dc7cc397f5dd",
   "metadata": {},
   "outputs": [],
   "source": [
    "epsilon = 0.1\n",
    "threshold = 2000"
   ]
  },
  {
   "cell_type": "code",
   "execution_count": 100,
   "id": "bebedb80-4fbb-4355-aca0-07243cf6b687",
   "metadata": {},
   "outputs": [],
   "source": [
    "def changepoint_estimator(quadratics_positive,quadratics_negative,S,n,M):\n",
    "    # n records the number of samples taken for each stream, equal to the last quadratic's local time step entered\n",
    "    best_glr = 0\n",
    "    # randomized selection if no stream can exceed a glr of 0\n",
    "    best_stream = random.randint(0,M)\n",
    "    best_changepoint = 0\n",
    "    # Find stream and changepoint containing best GLR statistic\n",
    "    for m in range(M):\n",
    "        # iterate through stream m's quadratics\n",
    "        # if no samples then keep going\n",
    "        if n[m] == 0:\n",
    "            continue\n",
    "        else:\n",
    "            for quadratic in quadratics_positive[m] + quadratics_negative[m]:\n",
    "                if n[m]-quadratic[0]==0: \n",
    "                    continue\n",
    "                elif (S[m]-quadratic[1])**2/(2*(n[m]-quadratic[0]))>best_glr:\n",
    "                    best_glr = (S[m]-quadratic[1])**2/(2*(n[m]-quadratic[0]))\n",
    "                    best_changepoint = quadratic[3]\n",
    "                    best_stream = m\n",
    "    return best_changepoint, best_stream, best_glr"
   ]
  },
  {
   "cell_type": "code",
   "execution_count": 101,
   "id": "05a70d15-6136-42cd-9fa3-1f2b4c785374",
   "metadata": {},
   "outputs": [
    {
     "name": "stdout",
     "output_type": "stream",
     "text": [
      "stopping time: 28759\n",
      "2000.1877161257626\n"
     ]
    }
   ],
   "source": [
    "import sys\n",
    "from scipy.stats import bernoulli\n",
    "\n",
    "# Implementation of multi-stream FOCuS for any mu\n",
    "# Each stream gets its own set of quadratics\n",
    "quadratics_positive = [[(0,0,0,0)] for m in range(M)]\n",
    "quadratics_negative = [[(0,0,0,0)] for m in range(M)]\n",
    "# tau, s, l, g\n",
    "# g corresponds to global time step, tau corresponds to local time step (number of samples taken, N(g))\n",
    "# Again each stream gets its own set of coefficients so there is M-length array for S\n",
    "S = [0 for m in range(M)]\n",
    "# And M-length array for number of samples at current time step\n",
    "n = [0 for m in range(M)] \n",
    "\n",
    "# record location of changepoint estimates\n",
    "changepoint_history = []\n",
    "# record stream selected at each time step\n",
    "stream_mle_history = []\n",
    "\n",
    "# history after each time step\n",
    "history_count = np.zeros((M,T))\n",
    "history_reward = np.zeros((M,T))\n",
    "history_sample_means = np.zeros((M,T))\n",
    "# Need to make sure history is sub-linear in T\n",
    "# For now I can use a history vector but I should work on an implementation\n",
    "# One way is I can put a state vector in each changepoint location\n",
    "# This has M^2 log T memory complexity but this is better than T complexity if M is fixed\n",
    "# So we assume changepoint_location is the actual changepoint.  After that we cut off the data\n",
    "# Remember the changepoint is 1-indexed but Python is zero-indexed so subtracting \n",
    "\n",
    "for t in range(T):\n",
    "    # First perform stream selection with epsilon-greedy\n",
    "    exploration = bernoulli.rvs(epsilon)\n",
    "    if exploration:\n",
    "        a_t = np.random.randint(M)\n",
    "    else:\n",
    "        changepoint_location, stream_estimate, _ = changepoint_estimator(quadratics_positive,quadratics_negative,S,n,M)\n",
    "        for m in range(M):\n",
    "            # Check if there exists any stream which do not have any post-change samples \n",
    "            M_0 = np.where((history_count[:,t-1]-history_count[:,changepoint_location])==0)[0]\n",
    "            if len(M_0) == 0:\n",
    "                sample_means = (history_reward[:,t-1]-history_reward[:,changepoint_location])/(history_count[:,t-1]-history_count[:,changepoint_location])\n",
    "                a_t = np.argmax(sample_means)\n",
    "                history_sample_means[:,t]=sample_means\n",
    "            else:\n",
    "                a_t = np.random.choice(M_0)\n",
    "    x_t = data[a_t,t]\n",
    "    \n",
    "    n[a_t] = n[a_t] + 1\n",
    "    for m in range(M):\n",
    "        history_count[m,t] = n[m]\n",
    "    S[a_t] = S[a_t] + x_t\n",
    "    for m in range(M):\n",
    "        history_reward[m,t] = S[m]\n",
    "    k = len(quadratics_positive[a_t])\n",
    "    quadratic_add = [n[a_t],S[a_t],np.inf,t+1]\n",
    "    i = k\n",
    "    while (2*(quadratic_add[1]-quadratics_positive[a_t][i-1][1])-(quadratic_add[0]-quadratics_positive[a_t][i-1][0])*quadratics_positive[a_t][i-1][2])<=0 and i>=1:\n",
    "        i = i-1\n",
    "    quadratic_add[2] = max(0,2*(quadratic_add[0]-quadratics_positive[a_t][i-1][0])/(quadratic_add[2]-quadratics_positive[a_t][i-1][2]))\n",
    "    quadratics_positive[a_t] = quadratics_positive[a_t][:i].copy()\n",
    "    quadratics_positive[a_t].append(tuple(quadratic_add))\n",
    "\n",
    "    # Now negative update\n",
    "    k = len(quadratics_negative[a_t])\n",
    "    quadratic_add = [n[a_t],S[a_t],-np.inf,t+1]\n",
    "    i = k\n",
    "    while (2*(quadratic_add[1]-quadratics_negative[a_t][i-1][1])-(quadratic_add[0]-quadratics_negative[a_t][i-1][0])*quadratics_negative[a_t][i-1][2])>=0 and i>=1:\n",
    "        i = i-1\n",
    "    quadratic_add[2] = min(0,2*(quadratic_add[0]-quadratics_negative[a_t][i-1][0])/(quadratic_add[2]-quadratics_negative[a_t][i-1][2]))\n",
    "    quadratics_negative[a_t] = quadratics_negative[a_t][:i].copy()\n",
    "    quadratics_negative[a_t].append(tuple(quadratic_add))\n",
    "    \n",
    "    changepoint_location, stream_estimate, best_glr = changepoint_estimator(quadratics_positive,quadratics_negative,S,n,M)\n",
    "    changepoint_history.append(changepoint_location)\n",
    "    stream_mle_history.append(stream_estimate)\n",
    "    if best_glr>=threshold:\n",
    "        print(f'stopping time: {t+1}')\n",
    "        print(best_glr)\n",
    "        break"
   ]
  },
  {
   "cell_type": "code",
   "execution_count": 116,
   "id": "006bc093-6af6-4916-8ab1-4518d38a020f",
   "metadata": {},
   "outputs": [
    {
     "name": "stdout",
     "output_type": "stream",
     "text": [
      "stopping time: 26437\n",
      "2000.0839199483526\n"
     ]
    }
   ],
   "source": [
    "import sys\n",
    "\n",
    "# Implementation of FOCuS for any mu\n",
    "quadratics_positive = [(0,0,0)]\n",
    "quadratics_negative = [(0,0,0)]\n",
    "# tau, s, l\n",
    "S = 0\n",
    "changepoint_history_single = []\n",
    "glr_history = []\n",
    "\n",
    "for t in range(T):\n",
    "    S = S + data[0][t]\n",
    "    # Recall time step are different from index in array\n",
    "    # Time steps are 1-indexed so adding t+1\n",
    "    #Positive update first\n",
    "    k = len(quadratics_positive)\n",
    "    quadratic_add = [t+1,S,np.inf]\n",
    "    i = k\n",
    "    while (2*(quadratic_add[1]-quadratics_positive[i-1][1])-(quadratic_add[0]-quadratics_positive[i-1][0])*quadratics_positive[i-1][2])<=0 and i>=1:\n",
    "        i = i-1\n",
    "    quadratic_add[2] = max(0,2*(quadratic_add[0]-quadratics_positive[i-1][0])/(quadratic_add[2]-quadratics_positive[i-1][2]))\n",
    "    quadratics_positive = quadratics_positive[:i].copy()\n",
    "    quadratics_positive.append(tuple(quadratic_add))\n",
    "\n",
    "    # Now negative update\n",
    "    k = len(quadratics_negative)\n",
    "    quadratic_add = [t+1,S,-np.inf]\n",
    "    i = k\n",
    "    while (2*(quadratic_add[1]-quadratics_negative[i-1][1])-(quadratic_add[0]-quadratics_negative[i-1][0])*quadratics_negative[i-1][2])>=0 and i>=1:\n",
    "        i = i-1\n",
    "    quadratic_add[2] = min(0,2*(quadratic_add[0]-quadratics_negative[i-1][0])/(quadratic_add[2]-quadratics_negative[i-1][2]))\n",
    "    quadratics_negative = quadratics_negative[:i].copy()\n",
    "    quadratics_negative.append(tuple(quadratic_add))\n",
    "    # Combine two and check\n",
    "    # glr = max([(S-quadratic[1])**2/(2*(t+1-quadratic[0])) for quadratic in quadratics_positive[:-1]]+[(S-quadratic[1])**2/(2*(t+1-quadratic[0])) for quadratic in quadratics_negative[:-1]]+[0])\n",
    "    # Here 0 corresponds to the last quadratic \n",
    "    best_changepoint = 0\n",
    "    best_glr = 0\n",
    "    for quadratic in quadratics_positive + quadratics_negative:\n",
    "        if t+1-quadratic[0]==0: \n",
    "            continue\n",
    "        elif (S-quadratic[1])**2/(2*(t+1-quadratic[0]))>best_glr:\n",
    "            best_glr = (S-quadratic[1])**2/(2*(t+1-quadratic[0]))\n",
    "            best_changepoint = quadratic[0]\n",
    "    changepoint_history_single.append(best_changepoint)   \n",
    "    glr_history.append(best_glr)\n",
    "    if best_glr>=threshold:\n",
    "        print(f'stopping time: {t+1}')\n",
    "        print(best_glr)\n",
    "        break"
   ]
  },
  {
   "cell_type": "code",
   "execution_count": 117,
   "id": "3d60f506-e2f7-47fc-a160-4fe065feb4e4",
   "metadata": {},
   "outputs": [
    {
     "data": {
      "text/plain": [
       "[<matplotlib.lines.Line2D at 0x7fcfe6de1f10>]"
      ]
     },
     "execution_count": 117,
     "metadata": {},
     "output_type": "execute_result"
    },
    {
     "data": {
      "image/png": "[encoded data removed]",
      "text/plain": [
       "<Figure size 640x480 with 1 Axes>"
      ]
     },
     "metadata": {},
     "output_type": "display_data"
    }
   ],
   "source": [
    "import matplotlib.pyplot as plt\n",
    "\n",
    "plt.plot(changepoint_history)"
   ]
  },
  {
   "cell_type": "code",
   "execution_count": 118,
   "id": "2f4b4697-651b-44c7-b8ca-9b2626b9f870",
   "metadata": {},
   "outputs": [
    {
     "data": {
      "text/plain": [
       "[<matplotlib.lines.Line2D at 0x7fcfef1637d0>]"
      ]
     },
     "execution_count": 118,
     "metadata": {},
     "output_type": "execute_result"
    },
    {
     "data": {
      "image/png": "[encoded data removed]",
      "text/plain": [
       "<Figure size 640x480 with 1 Axes>"
      ]
     },
     "metadata": {},
     "output_type": "display_data"
    }
   ],
   "source": [
    "import matplotlib.pyplot as plt\n",
    "\n",
    "plt.plot(stream_mle_history)"
   ]
  },
  {
   "cell_type": "code",
   "execution_count": null,
   "id": "c198b005-22ee-4601-a90b-c13330ef9825",
   "metadata": {},
   "outputs": [],
   "source": []
  }
 ],
 "metadata": {
  "kernelspec": {
   "display_name": "Python 3 (ipykernel)",
   "language": "python",
   "name": "python3"
  },
  "language_info": {
   "codemirror_mode": {
    "name": "ipython",
    "version": 3
   },
   "file_extension": ".py",
   "mimetype": "text/x-python",
   "name": "python",
   "nbconvert_exporter": "python",
   "pygments_lexer": "ipython3",
   "version": "3.12.8"
  }
 },
 "nbformat": 4,
 "nbformat_minor": 5
}
